{
  "nbformat": 4,
  "nbformat_minor": 0,
  "metadata": {
    "accelerator": "GPU",
    "colab": {
      "name": "faster_rcnn_kitti.ipynb",
      "provenance": []
    },
    "kernelspec": {
      "display_name": "Python 3",
      "name": "python3"
    },
    "language_info": {
      "name": "python"
    }
  },
  "cells": [
    {
      "cell_type": "code",
      "metadata": {
        "colab": {
          "base_uri": "https://localhost:8080/"
        },
        "id": "e7-VX0i0Em_G",
        "outputId": "bd9026a4-9dbe-4c1d-b17f-3fc4e03d0469"
      },
      "source": [
        "from google.colab import drive\n",
        "drive.mount('/content/drive')"
      ],
      "execution_count": 1,
      "outputs": [
        {
          "output_type": "stream",
          "text": [
            "Mounted at /content/drive\n"
          ],
          "name": "stdout"
        }
      ]
    },
    {
      "cell_type": "code",
      "metadata": {
        "id": "9dlKOCQzui6L"
      },
      "source": [
        "%cd '/content/drive/MyDrive/VOC2007'\n",
        "!unzip data_object_image_2.zip\n",
        "!unzip data_object_label_2.zip"
      ],
      "execution_count": null,
      "outputs": []
    },
    {
      "cell_type": "code",
      "metadata": {
        "colab": {
          "base_uri": "https://localhost:8080/"
        },
        "id": "LUZMNLmCIH-F",
        "outputId": "48b30620-4c2a-4669-dfe9-bfd7d2b2ee16"
      },
      "source": [
        "%cd '/content/drive/MyDrive'\n",
        "!git clone https://github.com/juhan-y/simple-faster-rcnn_pytorch.git"
      ],
      "execution_count": 3,
      "outputs": [
        {
          "output_type": "stream",
          "text": [
            "/content/drive/MyDrive\n",
            "fatal: destination path 'simple-faster-rcnn_pytorch' already exists and is not an empty directory.\n"
          ],
          "name": "stdout"
        }
      ]
    },
    {
      "cell_type": "code",
      "metadata": {
        "id": "0q20v6R_5kHY"
      },
      "source": [
        "%cd '/content/drive/MyDrive/simple-faster-rcnn_pytorch/'\n",
        "!python class_name_chane.py"
      ],
      "execution_count": null,
      "outputs": []
    },
    {
      "cell_type": "code",
      "metadata": {
        "id": "4sCkB6PUGwx6"
      },
      "source": [
        "!python txt_to_xml.py"
      ],
      "execution_count": null,
      "outputs": []
    },
    {
      "cell_type": "code",
      "metadata": {
        "id": "0qQaBFpa5r_N"
      },
      "source": [
        "!python create_train_test_txt.py"
      ],
      "execution_count": null,
      "outputs": []
    },
    {
      "cell_type": "code",
      "metadata": {
        "id": "T12c5sRKR3OX"
      },
      "source": [
        "%cd '/content/drive/MyDrive/simple-faster-rcnn_pytorch'\n",
        "!python create_train_test_txt.py"
      ],
      "execution_count": null,
      "outputs": []
    },
    {
      "cell_type": "code",
      "metadata": {
        "id": "UUexmQBUrFfS"
      },
      "source": [
        "import glob\n",
        "a=glob.glob('/content/drive/MyDrive/VOC2007/Annotations/*.xml')\n",
        "print(len(a))"
      ],
      "execution_count": null,
      "outputs": []
    },
    {
      "cell_type": "code",
      "metadata": {
        "id": "1lMYDo0gqO-Q"
      },
      "source": [
        "!pip install visdom scikit-image tqdm fire ipdb matplotlib torchnet websockets"
      ],
      "execution_count": null,
      "outputs": []
    },
    {
      "cell_type": "code",
      "metadata": {
        "id": "kmd42juYJqtN"
      },
      "source": [
        "!python train.py train --env='fasterrcnn' --plot-every=100 --port=8097"
      ],
      "execution_count": null,
      "outputs": []
    }
  ]
}